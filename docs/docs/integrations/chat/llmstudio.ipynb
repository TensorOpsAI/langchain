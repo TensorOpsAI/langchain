{
 "cells": [
  {
   "cell_type": "code",
   "execution_count": null,
   "metadata": {},
   "outputs": [],
   "source": [
    "# install llmstudio\n",
    "pip install llmstudio\n",
    "\n",
    "# import llmstudio\n",
    "from llmstudio import LLMStudio"
   ]
  }
 ],
 "metadata": {
  "language_info": {
   "name": "python"
  }
 },
 "nbformat": 4,
 "nbformat_minor": 2
}
